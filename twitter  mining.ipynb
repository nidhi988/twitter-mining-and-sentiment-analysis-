{
 "cells": [
  {
   "cell_type": "markdown",
   "metadata": {},
   "source": [
    "# using web scraping tool BeautifulSoup to do real time extraction of tweets"
   ]
  },
  {
   "cell_type": "code",
   "execution_count": 1,
   "metadata": {},
   "outputs": [],
   "source": [
    "# twitter streaming and mining\n",
    "\n",
    "import tweepy\n",
    "consumer_key = \"3JR9HZMhKxKX8zUTuDHCELR9T\"\n",
    "consumer_secret = \"ANHpwRnV5Aob3PnBOGpfznv7AKc7i5SBIfxkMue4JK1qIArWa4\"\n",
    "access_token = \"1188072580332175360-ZiiXegpKOrYaLX2xNEbUBYObxOsnIS\"\n",
    "access_token_secret=\"R4xtxcNZ6I4MOhQ8LRvhcBUCDsLZKXQMHfF3ewpG4e0HR\""
   ]
  },
  {
   "cell_type": "code",
   "execution_count": 2,
   "metadata": {},
   "outputs": [],
   "source": [
    "# Creating the authentication object\n",
    "auth = tweepy.OAuthHandler(consumer_key, consumer_secret)\n",
    "# Setting your access token and secret\n",
    "auth.set_access_token(access_token, access_token_secret)\n",
    "# Creating the API object while passing in auth information\n",
    "api = tweepy.API(auth) "
   ]
  },
  {
   "cell_type": "code",
   "execution_count": 6,
   "metadata": {},
   "outputs": [],
   "source": [
    "#pulling the ten most recent tweets from your Twitter feed. We’ll do this by using the API object’s home_timeline() function. We can then store the result in a variable, and loop through it to print the results.\n",
    "\n",
    "#Using the API object to get tweets from your timeline, and storing it in a variable called public_tweets\n",
    "public_tweets = api.home_timeline()\n",
    "# foreach through all tweets pulled\n",
    "for tweet in public_tweets:\n",
    "   # printing the text stored inside the tweet object\n",
    "   print (tweet.text)"
   ]
  },
  {
   "cell_type": "code",
   "execution_count": 7,
   "metadata": {},
   "outputs": [
    {
     "name": "stdout",
     "output_type": "stream",
     "text": [
      "A progressive organization, advised by the former Obama campaign manager David Plouffe, has unveiled a $75 million… https://t.co/hWcwpUF6KV\n",
      "Gary Locke, a former governor of Washington, is trying to persuade fellow Asian-Americans to support a measure that… https://t.co/5Trh80XPou\n",
      "The White House’s top national security lawyer, John Eisenberg, declined to appear for a deposition, saying he woul… https://t.co/48gsLpLiOt\n",
      "For decades, political leaders in Chile promised that free markets would lead to prosperity, and prosperity would t… https://t.co/7qKdmgayFD\n",
      "Walmart has taken stands on several controversial issues, but has been careful to alienate as few customers as poss… https://t.co/GOnQ801rxA\n",
      "In Opinion\n",
      "\n",
      "\"Denying the right of anyone, famous or not, to exercise control over who is allowed to see their naked… https://t.co/SSIqMH0DSt\n",
      "As the 2020 election approaches, classes, apps and message boards are trying to bridge the divide between the left… https://t.co/omEWaGGOx4\n",
      "In Opinion \n",
      "\n",
      "\"Nearly everyone on the board faces the same, fundamental problem: They want to go further than where… https://t.co/i0cpFU080w\n",
      "Despite low national approval ratings and the specter of impeachment, President Trump remains highly competitive in… https://t.co/0a1OQoPHuS\n",
      "While many of Trump’s attacks on Twitter are spontaneous, he chews over others, waiting to maximize reaction. He pl… https://t.co/YfzAg0DX0X\n",
      "Boeing will test the safety system of its commercial spacecraft today.\n",
      "\n",
      "This brings the aerospace industry one step… https://t.co/qlTlBR44yd\n",
      "Long before a phone call with Ukraine’s president that prompted an impeachment inquiry, President Trump was exchang… https://t.co/4kfQhvQAHm\n",
      "At the state’s biggest political event of the year, candidates vied for salience before the first votes of the nomi… https://t.co/aophh46gqo\n",
      "Apple announced a $2.5 billion plan to help address the California housing crisis. It includes $1 billion for an af… https://t.co/jdSA9FvkEA\n",
      "What if a dementia patient wanders across an international border?\n",
      "\n",
      "People with dementia or Alzheimer’s can often b… https://t.co/Qt8rYve2i7\n",
      "For 3 weeks, Chile has been in upheaval. Protests in a country often lauded as Latin America’s great economic succe… https://t.co/GnL0XFw9Tf\n",
      "It’s 6 a.m. in Washington.\n",
      "\n",
      "President Trump’s Twitter habit is most intense in the morning, when he's in the White… https://t.co/Bp1l4pU0BU\n",
      "Some Hong Kong activists want the U.S. to take a tougher stance against Beijing. But American involvement could giv… https://t.co/JSP7YxKkGo\n",
      "A surge of oil production is coming even as concerns about climate change are growing and worldwide oil demand is s… https://t.co/qgQzUxfzmo\n",
      "8 people were arrested in Vietnam as investigators continued to trace how 39 people died in a refrigerated truck in… https://t.co/lUCBGeTOQz\n"
     ]
    }
   ],
   "source": [
    "# Creating the API object while passing in auth information\n",
    "api = tweepy.API(auth)\n",
    "\n",
    "# The Twitter user who we want to get tweets from\n",
    "name = \"nytimes\"\n",
    "# Number of tweets to pull\n",
    "tweetCount = 20\n",
    "\n",
    "# Calling the user_timeline function with our parameters\n",
    "results = api.user_timeline(id=name, count=tweetCount)\n",
    "\n",
    "# foreach through all tweets pulled\n",
    "for tweet in results:\n",
    "   # printing the text stored inside the tweet object\n",
    "   print (tweet.text)"
   ]
  },
  {
   "cell_type": "code",
   "execution_count": 10,
   "metadata": {},
   "outputs": [
    {
     "name": "stdout",
     "output_type": "stream",
     "text": [
      "cabezacuco Tweeted: The History of Remote Work (with Infographic) https://t.co/g3O1GueMor\n",
      "sanketmraut Tweeted: RT @onlyzhap: Toptal software engineering test is beastly las las 🤣🤣🤣🤣🤣 *Tears of blood\n",
      "onlyzhap Tweeted: Toptal software engineering test is beastly las las 🤣🤣🤣🤣🤣 *Tears of blood\n",
      "neshafreelancer Tweeted: RT @goLanceInc: Reynard Warden gave #goLance 5 stars via @Trustpilot https://t.co/aP6KhI8Dub\n",
      "\n",
      "#upwork #upworksuccess #Fiverr #peopleperhour…\n",
      "bbatsov Tweeted: RT @jodosha: Today is my first day as Senior Software Engineer at @toptal core team. Thanks for the opportunity! 💪\n",
      "\n",
      "#remotework\n",
      "goLanceInc Tweeted: Reynard Warden gave #goLance 5 stars via @Trustpilot https://t.co/aP6KhI8Dub\n",
      "\n",
      "#upwork #upworksuccess #Fiverr… https://t.co/7Jwxewzp0K\n",
      "jodosha Tweeted: @Benoit_Tgt @toptal Thank you Benoit!\n",
      "jodosha Tweeted: @ngw @fusillicode @toptal Thanks, it's very nice of you!\n",
      "matteocollina Tweeted: RT @jodosha: Today is my first day as Senior Software Engineer at @toptal core team. Thanks for the opportunity! 💪\n",
      "\n",
      "#remotework\n",
      "ngw Tweeted: @jodosha @fusillicode @toptal Congrats man!\n",
      "jodosha Tweeted: @mereghost @toptal Thanks Marcello! 💪\n",
      "CarlosSadhu Tweeted: RT @jodosha: Today is my first day as Senior Software Engineer at @toptal core team. Thanks for the opportunity! 💪\n",
      "\n",
      "#remotework\n",
      "mereghost Tweeted: @jodosha @toptal Gratz man. :) And gratz @toptal for hiring him.\n",
      "jodosha Tweeted: @maciejmensfeld @toptal @_solnic_ Thanks for the invitation, Maciej! I'd love to visit the city. 😎\n",
      "maciejmensfeld Tweeted: @jodosha @toptal Btw. you may not know, but we're always open to hosting in our office in Cracow ppl which OSS we u… https://t.co/USGBPREHjp\n"
     ]
    }
   ],
   "source": [
    "#Getting the most recent tweets that contain a keyword. This can be extremely useful if you want to monitor specifically mentioned topics in the Twitter world, or even to see how your business is getting mentioned. Let’s say we want to see how Twitter’s been mentioning Toptal.\n",
    "\n",
    "# Creating the API object while passing in auth information\n",
    "api = tweepy.API(auth)\n",
    "\n",
    "# The search term you want to find\n",
    "query = \"Toptal\"\n",
    "# Language code (follows ISO 639-1 standards)\n",
    "language = \"en\"\n",
    "\n",
    "# Calling the user_timeline function with our parameters\n",
    "results = api.search(q=query, lang=language)\n",
    "\n",
    "# foreach through all tweets pulled\n",
    "for tweet in results:\n",
    "   # printing the text stored inside the tweet object\n",
    "   print (tweet.user.screen_name,\"Tweeted:\",tweet.text)"
   ]
  },
  {
   "cell_type": "code",
   "execution_count": null,
   "metadata": {},
   "outputs": [],
   "source": []
  }
 ],
 "metadata": {
  "kernelspec": {
   "display_name": "Python 3",
   "language": "python",
   "name": "python3"
  },
  "language_info": {
   "codemirror_mode": {
    "name": "ipython",
    "version": 3
   },
   "file_extension": ".py",
   "mimetype": "text/x-python",
   "name": "python",
   "nbconvert_exporter": "python",
   "pygments_lexer": "ipython3",
   "version": "3.7.3"
  }
 },
 "nbformat": 4,
 "nbformat_minor": 2
}
